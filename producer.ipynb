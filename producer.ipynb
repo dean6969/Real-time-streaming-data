{
 "cells": [
  {
   "attachments": {},
   "cell_type": "markdown",
   "metadata": {},
   "source": [
    "**Author name:** Thanh Chung Nguyen"
   ]
  },
  {
   "cell_type": "code",
   "execution_count": 1,
   "metadata": {},
   "outputs": [],
   "source": [
    "# import statements\n",
    "from time import sleep\n",
    "from json import dumps\n",
    "from kafka import KafkaProducer\n",
    "import random\n",
    "import datetime as dt\n",
    "from datetime import datetime\n",
    "import csv"
   ]
  },
  {
   "cell_type": "code",
   "execution_count": 2,
   "metadata": {},
   "outputs": [
    {
     "name": "stdout",
     "output_type": "stream",
     "text": [
      "Publishing records..\n"
     ]
    },
    {
     "ename": "KeyboardInterrupt",
     "evalue": "",
     "output_type": "error",
     "traceback": [
      "\u001b[0;31m---------------------------------------------------------------------------\u001b[0m",
      "\u001b[0;31mKeyboardInterrupt\u001b[0m                         Traceback (most recent call last)",
      "\u001b[0;32m<ipython-input-2-cf81edd9355e>\u001b[0m in \u001b[0;36m<module>\u001b[0;34m\u001b[0m\n\u001b[1;32m     79\u001b[0m         \u001b[0;32mif\u001b[0m \u001b[0mstart_index\u001b[0m \u001b[0;34m>=\u001b[0m \u001b[0mlen\u001b[0m\u001b[0;34m(\u001b[0m\u001b[0mcus_df\u001b[0m\u001b[0;34m)\u001b[0m\u001b[0;34m:\u001b[0m\u001b[0;34m\u001b[0m\u001b[0;34m\u001b[0m\u001b[0m\n\u001b[1;32m     80\u001b[0m             \u001b[0mstart_index\u001b[0m \u001b[0;34m=\u001b[0m \u001b[0;36m0\u001b[0m\u001b[0;34m\u001b[0m\u001b[0;34m\u001b[0m\u001b[0m\n\u001b[0;32m---> 81\u001b[0;31m         \u001b[0msleep\u001b[0m\u001b[0;34m(\u001b[0m\u001b[0;36m5\u001b[0m\u001b[0;34m)\u001b[0m\u001b[0;34m\u001b[0m\u001b[0;34m\u001b[0m\u001b[0m\n\u001b[0m\u001b[1;32m     82\u001b[0m \u001b[0;34m\u001b[0m\u001b[0m\n\u001b[1;32m     83\u001b[0m \u001b[0;34m\u001b[0m\u001b[0m\n",
      "\u001b[0;31mKeyboardInterrupt\u001b[0m: "
     ]
    }
   ],
   "source": [
    "\n",
    "\n",
    "\n",
    "def read_csv(fileName):\n",
    "    '''Read the CSV file clickstream.csv'''\n",
    "    '''you can use csv.DictReader'''\n",
    "    list = []\n",
    "    with open(fileName, 'rt') as f:\n",
    "        reader = csv.DictReader(f)\n",
    "        for row in reader:\n",
    "            list.append(row)\n",
    "    return list\n",
    "\n",
    "def publish_message(producer_instance, topic_name, data):\n",
    "    try:\n",
    "        producer_instance.send(topic_name, data)\n",
    "#         print(f'Message published successfully. data:' + str(data))\n",
    "    except Exception as ex:\n",
    "        print('Exception in publishing message.')\n",
    "        print(str(ex))\n",
    "        \n",
    "def connect_kafka_producer():\n",
    "    _producer = None\n",
    "    try:\n",
    "        _producer = KafkaProducer(bootstrap_servers=['localhost:9092'],\n",
    "                                  value_serializer=lambda x: dumps(x).encode('ascii'),\n",
    "                                  api_version=(0, 10))\n",
    "    except Exception as ex:\n",
    "        print('Exception while connecting Kafka.')\n",
    "        print(str(ex))\n",
    "    finally:\n",
    "        return _producer\n",
    "    \n",
    "if __name__ == '__main__':\n",
    "    \n",
    "    topic_bu = 'bureau'\n",
    "    topic_cus = \"customer\"\n",
    "    bu_df = read_csv('bureau.csv')\n",
    "    \n",
    "    cus_df = read_csv(\"customer.csv\")\n",
    "    \n",
    "    print('Publishing records..')\n",
    "    producer = connect_kafka_producer()\n",
    "\n",
    "#     len_row_bu = list(range(len(bu_df)))\n",
    "#     len_row_cus = list(range(len(cus_df)))\n",
    "    \n",
    "    count = 1\n",
    "    \n",
    "    start_index = 0\n",
    "    while True:\n",
    "        num_rows = random.randint(10,31)\n",
    "        \n",
    "        dt = datetime.now()\n",
    "        ts = datetime.timestamp(dt)\n",
    "        alist = []\n",
    "        \n",
    "        to_send_bu = cus_df[start_index:num_rows+start_index]\n",
    "        \n",
    "        start_index = num_rows + start_index\n",
    "        \n",
    "        \n",
    "        customer = []\n",
    "        for i in to_send_bu: \n",
    "            i['ts'] = int(ts)\n",
    "            \n",
    "        customer += to_send_bu\n",
    "        \n",
    "        id_map = [i['ID'] for i in customer]\n",
    "        \n",
    "        bureau = [] \n",
    "        for i in bu_df:\n",
    "            if i['ID'] in id_map:\n",
    "                i['ts'] = int(ts)\n",
    "                bureau.append(i)\n",
    "            \n",
    "\n",
    "        # publish message of producer\n",
    "        publish_message(producer, topic_bu, bureau)\n",
    "        publish_message(producer, topic_cus, customer)\n",
    "        \n",
    "        if start_index >= len(cus_df):\n",
    "            start_index = 0\n",
    "        sleep(5)\n",
    "        \n",
    "        \n",
    "    \n",
    "    "
   ]
  },
  {
   "cell_type": "code",
   "execution_count": null,
   "metadata": {},
   "outputs": [],
   "source": []
  },
  {
   "cell_type": "code",
   "execution_count": null,
   "metadata": {},
   "outputs": [],
   "source": []
  }
 ],
 "metadata": {
  "kernelspec": {
   "display_name": "Python 3",
   "language": "python",
   "name": "python3"
  },
  "language_info": {
   "codemirror_mode": {
    "name": "ipython",
    "version": 3
   },
   "file_extension": ".py",
   "mimetype": "text/x-python",
   "name": "python",
   "nbconvert_exporter": "python",
   "pygments_lexer": "ipython3",
   "version": "3.8.2"
  }
 },
 "nbformat": 4,
 "nbformat_minor": 4
}
