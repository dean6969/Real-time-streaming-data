{
 "cells": [
  {
   "attachments": {},
   "cell_type": "markdown",
   "metadata": {},
   "source": [
    "**Author name:** Thanh Chung Nguyen\n",
    "\n"
   ]
  },
  {
   "cell_type": "code",
   "execution_count": null,
   "metadata": {},
   "outputs": [],
   "source": [
    "# !pip install plotly"
   ]
  },
  {
   "cell_type": "code",
   "execution_count": 8,
   "metadata": {},
   "outputs": [],
   "source": [
    "# import statements\n",
    "from time import sleep\n",
    "from kafka import KafkaConsumer\n",
    "import datetime as dt\n",
    "import time\n",
    "import json\n",
    "import plotly.express as px\n",
    "import re, json, requests\n",
    "import pandas as pd\n",
    "from IPython.display import clear_output\n",
    "import ast\n",
    "import warnings\n",
    "warnings.filterwarnings(\"ignore\")"
   ]
  },
  {
   "cell_type": "code",
   "execution_count": 9,
   "metadata": {},
   "outputs": [],
   "source": [
    "# read data \n",
    "url = 'https://raw.githubusercontent.com/nikhilkumarsingh/choropleth-python-tutorial/master/states_india.geojson'\n",
    "resp = requests.get(url)\n",
    "data = json.loads(resp.text)\n",
    "\n",
    "# convert attributes name of state to uppercase\n",
    "for i in range(len(data['features'])):\n",
    "    data['features'][i]['properties']['st_nm'] = data['features'][i]['properties']['st_nm'].upper()\n",
    "\n",
    "# get state and id of map\n",
    "state_id_map = {}\n",
    "for feature in data[\"features\"]:\n",
    "    feature[\"id\"] = feature[\"properties\"][\"state_code\"]\n",
    "    state_id_map[feature[\"properties\"][\"st_nm\"]] = feature[\"id\"]"
   ]
  },
  {
   "cell_type": "code",
   "execution_count": 12,
   "metadata": {},
   "outputs": [],
   "source": [
    "def connect_kafka_consumer():\n",
    "    _consumer = None\n",
    "    try:\n",
    "         _consumer = KafkaConsumer(\"final_best\",\n",
    "                                   consumer_timeout_ms=10000, # stop iteration if no message after 10 sec\n",
    "                                   auto_offset_reset='earliest', # comment this if you don't want to consume earliest available message\n",
    "                                   bootstrap_servers=['localhost:9092'],\n",
    "                                   api_version=(0, 10))\n",
    "    except Exception as ex:\n",
    "        print('Exception while connecting Kafka')\n",
    "        print(str(ex))\n",
    "    finally:\n",
    "        return _consumer"
   ]
  },
  {
   "cell_type": "code",
   "execution_count": null,
   "metadata": {
    "scrolled": false
   },
   "outputs": [
    {
     "ename": "",
     "evalue": "",
     "output_type": "error",
     "traceback": [
      "\u001b[1;31mRunning cells with 'c:\\Python311\\python.exe' requires ipykernel package.\n",
      "\u001b[1;31mRun the following command to install 'ipykernel' into the Python environment. \n",
      "\u001b[1;31mCommand: 'c:/Python311/python.exe -m pip install ipykernel -U --user --force-reinstall'"
     ]
    }
   ],
   "source": [
    "\n",
    "def consume_messages(consumer):\n",
    "    try:\n",
    "        # loop each message of consumer\n",
    "        for message in consumer:\n",
    "            # clear output of graph each iteration\n",
    "            clear_output(wait=True)\n",
    "            \n",
    "            # transform message to data\n",
    "            nest_value = str(message.value.decode('utf-8'))\n",
    "            nest_value = ast.literal_eval(nest_value)\n",
    "            \n",
    "            # convert list of dictionary to dataframe\n",
    "            df = pd.DataFrame(nest_value)\n",
    "\n",
    "            # preparation of variable to update dataframe\n",
    "            count = 0\n",
    "            mapping_state = df[\"State\"].tolist()\n",
    "            count = df.shape[0]\n",
    "            \n",
    "            # update final dataframe to draw graph\n",
    "            for i in state_id_map:\n",
    "                if i not in mapping_state:\n",
    "                    df['State'][count] = i\n",
    "                    df['count'][count] = 0\n",
    "                    \n",
    "                    count+= 1\n",
    "                    \n",
    "\n",
    "            # draw the graph\n",
    "            fig = px.choropleth(df, geojson=data, color = \"count\",\n",
    "                                locations=\"State\", featureidkey=\"properties.st_nm\",color_continuous_scale='blues',\n",
    "                               )\n",
    "            fig.update_geos(fitbounds=\"locations\", visible=False)\n",
    "            fig.update_layout(margin={\"r\":0,\"t\":0,\"l\":0,\"b\":0})\n",
    "            \n",
    "            fig.show()\n",
    "            \n",
    "            time.sleep(0.5)\n",
    "            \n",
    "            \n",
    "            \n",
    "                    \n",
    "    except Exception as ex:\n",
    "        print(str(ex))\n",
    "        \n",
    "    \n",
    "if __name__ == '__main__':\n",
    "    consumer = connect_kafka_consumer()\n",
    "    consume_messages(consumer)"
   ]
  },
  {
   "cell_type": "code",
   "execution_count": null,
   "metadata": {},
   "outputs": [],
   "source": []
  }
 ],
 "metadata": {
  "kernelspec": {
   "display_name": "Python 3",
   "language": "python",
   "name": "python3"
  },
  "language_info": {
   "codemirror_mode": {
    "name": "ipython",
    "version": 3
   },
   "file_extension": ".py",
   "mimetype": "text/x-python",
   "name": "python",
   "nbconvert_exporter": "python",
   "pygments_lexer": "ipython3",
   "version": "3.11.0 (main, Oct 24 2022, 18:26:48) [MSC v.1933 64 bit (AMD64)]"
  },
  "vscode": {
   "interpreter": {
    "hash": "c261aea317cc0286b3b3261fbba9abdec21eaa57589985bb7a274bf54d6cc0a7"
   }
  }
 },
 "nbformat": 4,
 "nbformat_minor": 4
}
